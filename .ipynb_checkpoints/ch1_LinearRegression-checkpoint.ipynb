{
 "cells": [
  {
   "cell_type": "markdown",
   "id": "74b850ad",
   "metadata": {},
   "source": [
    "### 1.1 最小二乗法"
   ]
  },
  {
   "cell_type": "code",
   "execution_count": 24,
   "id": "0ef3dcda",
   "metadata": {},
   "outputs": [],
   "source": [
    "min.sq = function(x,y){\n",
    "    x.bar = mean(x)\n",
    "    y.bar = mean(y)\n",
    "    beta.1 = sum((x-x.bar)*(y-y.bar)) / sum((x-x.bar)^2)\n",
    "    beta.0 = y.bar - beta.1 * x.bar\n",
    "    return(list(a=beta.0, b=beta.1))\n",
    "}"
   ]
  },
  {
   "cell_type": "code",
   "execution_count": 31,
   "id": "75ab1d16",
   "metadata": {},
   "outputs": [
    {
     "data": {
      "image/png": "[encoded data removed]",
      "text/plain": [
       "plot without title"
      ]
     },
     "metadata": {},
     "output_type": "display_data"
    }
   ],
   "source": [
    "a=rnorm(1); b=rnorm(1)\n",
    "N=100; x=rnorm(N); y=a*x + b + rnorm(N)\n",
    "plot(x,y); abline(h=0, v=0)\n",
    "result=min.sq(x,y)\n",
    "abline(result$a, result$b, col=\"red\")\n",
    "\n",
    "x=x-mean(x); y=y-mean(y)\n",
    "result=min.sq(x,y)\n",
    "abline(result$a, result$b, col=\"blue\")\n",
    "\n",
    "legend(\"topleft\", c(\"before centering\",\"after centering\"), lty=1, col=c(\"red\", \"blue\"))\n",
    "grid()"
   ]
  },
  {
   "cell_type": "markdown",
   "id": "de7121c9",
   "metadata": {},
   "source": [
    "### 1.2 重回帰"
   ]
  },
  {
   "cell_type": "code",
   "execution_count": 63,
   "id": "2f827fb3",
   "metadata": {},
   "outputs": [],
   "source": [
    "n=100; p=2; beta=c(1, 2, 3)\n",
    "x = matrix(rnorm(n*p), nrow=n, ncol=p)\n",
    "y = beta[1] + beta[2]*x[,1] + beta[3]*x[,2] + rnorm(n)\n",
    "X = cbind(1,x)"
   ]
  },
  {
   "cell_type": "code",
   "execution_count": 64,
   "id": "44bde3c1",
   "metadata": {},
   "outputs": [
    {
     "data": {
      "text/html": [
       "<table>\n",
       "<tbody>\n",
       "\t<tr><td>1.050529</td></tr>\n",
       "\t<tr><td>2.058417</td></tr>\n",
       "\t<tr><td>3.035118</td></tr>\n",
       "</tbody>\n",
       "</table>\n"
      ],
      "text/latex": [
       "\\begin{tabular}{l}\n",
       "\t 1.050529\\\\\n",
       "\t 2.058417\\\\\n",
       "\t 3.035118\\\\\n",
       "\\end{tabular}\n"
      ],
      "text/markdown": [
       "\n",
       "| 1.050529 |\n",
       "| 2.058417 |\n",
       "| 3.035118 |\n",
       "\n"
      ],
      "text/plain": [
       "     [,1]    \n",
       "[1,] 1.050529\n",
       "[2,] 2.058417\n",
       "[3,] 3.035118"
      ]
     },
     "metadata": {},
     "output_type": "display_data"
    }
   ],
   "source": [
    "solve(t(X) %*% X) %*% t(X) %*% y"
   ]
  },
  {
   "cell_type": "markdown",
   "id": "19caef48",
   "metadata": {},
   "source": [
    "### 1.4 RSSの分布"
   ]
  },
  {
   "cell_type": "code",
   "execution_count": null,
   "id": "92e204df",
   "metadata": {},
   "outputs": [],
   "source": []
  }
 ],
 "metadata": {
  "kernelspec": {
   "display_name": "R",
   "language": "R",
   "name": "ir"
  },
  "language_info": {
   "codemirror_mode": "r",
   "file_extension": ".r",
   "mimetype": "text/x-r-source",
   "name": "R",
   "pygments_lexer": "r",
   "version": "3.6.1"
  }
 },
 "nbformat": 4,
 "nbformat_minor": 5
}
